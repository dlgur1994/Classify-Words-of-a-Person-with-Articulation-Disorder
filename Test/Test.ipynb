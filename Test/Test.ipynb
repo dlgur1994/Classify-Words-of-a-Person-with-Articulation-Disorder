{
  "nbformat": 4,
  "nbformat_minor": 0,
  "metadata": {
    "accelerator": "GPU",
    "colab": {
      "name": "Test.ipynb",
      "provenance": []
    },
    "kernelspec": {
      "display_name": "Python 3",
      "name": "python3"
    },
    "language_info": {
      "name": "python"
    }
  },
  "cells": [
    {
      "cell_type": "code",
      "metadata": {
        "colab": {
          "base_uri": "https://localhost:8080/"
        },
        "id": "yGNuKfWyrsra",
        "outputId": "c3c48ab3-a23b-4ec6-ca8b-053e742fe5a8"
      },
      "source": [
        "from google.colab import drive\n",
        "drive.mount('/gdrive')"
      ],
      "execution_count": 1,
      "outputs": [
        {
          "output_type": "stream",
          "text": [
            "Drive already mounted at /gdrive; to attempt to forcibly remount, call drive.mount(\"/gdrive\", force_remount=True).\n"
          ],
          "name": "stdout"
        }
      ]
    },
    {
      "cell_type": "code",
      "metadata": {
        "id": "yT-k28kPv0c3"
      },
      "source": [
        "import tensorflow as tf\n",
        "from tensorflow import keras\n",
        "import numpy as np\n",
        "import matplotlib.pyplot as plt\n",
        "import librosa\n",
        "from sklearn.preprocessing import minmax_scale\n",
        "from numpy import newaxis"
      ],
      "execution_count": 2,
      "outputs": []
    },
    {
      "cell_type": "code",
      "metadata": {
        "id": "QUs5hQwV27x0"
      },
      "source": [
        "def pad2d(features, fixed_length, padding_value=0):\n",
        "    rows = []\n",
        "    for feature in features:\n",
        "        rows.append(np.pad(feature, (0, fixed_length), 'constant', constant_values=padding_value)[:fixed_length])\n",
        "    return np.concatenate(rows, axis=0).reshape(-1, fixed_length)\n",
        "\n",
        "def extract_feature(file, sec):\n",
        "    X, sample_rate = librosa.load(file)\n",
        "    mfcc = librosa.feature.mfcc(X, n_mfcc=13, n_fft=int(sample_rate*0.025), hop_length=int(sample_rate*0.01))\n",
        "    # normalize MFCC features\n",
        "    mfcc_normalized = minmax_scale(mfcc, axis=0, copy=True)   \n",
        "    # adjust input size consistently\n",
        "    mfcc_padded = pad2d(mfcc_normalized, 100*sec)\n",
        "    return mfcc_padded"
      ],
      "execution_count": 3,
      "outputs": []
    },
    {
      "cell_type": "code",
      "metadata": {
        "id": "SxCEnTcew5qx"
      },
      "source": [
        "clover = '/gdrive/MyDrive/Colab/Classify_Words_of_a_Person_with_Articulation_Disorder/data/test/clover.wav'\n",
        "genie = '/gdrive/MyDrive/Colab/Classify_Words_of_a_Person_with_Articulation_Disorder/data/test/genie.wav'\n",
        "news = '/gdrive/MyDrive/Colab/Classify_Words_of_a_Person_with_Articulation_Disorder/data/test/news.wav'\n",
        "remotecontroller = '/gdrive/MyDrive/Colab/Classify_Words_of_a_Person_with_Articulation_Disorder/data/test/remotecontroller.wav'\n",
        "time = '/gdrive/MyDrive/Colab/Classify_Words_of_a_Person_with_Articulation_Disorder/data/test/time.wav'\n",
        "todayschedule = '/gdrive/MyDrive/Colab/Classify_Words_of_a_Person_with_Articulation_Disorder/data/test/todayschedule.wav'\n",
        "todayweather = '/gdrive/MyDrive/Colab/Classify_Words_of_a_Person_with_Articulation_Disorder/data/test/todayweather.wav'\n",
        "volumedown = '/gdrive/MyDrive/Colab/Classify_Words_of_a_Person_with_Articulation_Disorder/data/test/volumedown.wav'\n",
        "volumeup = '/gdrive/MyDrive/Colab/Classify_Words_of_a_Person_with_Articulation_Disorder/data/test/volumeup.wav'\n",
        "categories = {0:'clover', 1:'genie', 2:'news', 3:'remotecontroller', 4:'time', 5:'todayschedule', 6:'todayweather', 7:'volumedown', 8:'volumeup'}"
      ],
      "execution_count": 4,
      "outputs": []
    },
    {
      "cell_type": "code",
      "metadata": {
        "id": "2Q1cbuq_xqug"
      },
      "source": [
        "# choose one of the audio files.\n",
        "X = clover\n",
        "test_X = extract_feature(X, 23)\n",
        "test_X = test_X[newaxis, :, :]"
      ],
      "execution_count": 5,
      "outputs": []
    },
    {
      "cell_type": "code",
      "metadata": {
        "colab": {
          "base_uri": "https://localhost:8080/"
        },
        "id": "Ml-c92Gaq6vH",
        "outputId": "c6269dcd-55cf-407e-f9ee-24b88614e97e"
      },
      "source": [
        "model = keras.models.load_model('/gdrive/MyDrive/Colab/Classify_Words_of_a_Person_with_Articulation_Disorder/model/best_model.h5')\n",
        "print(categories[np.argmax(model.predict(test_X), axis=-1)[0]])"
      ],
      "execution_count": 6,
      "outputs": [
        {
          "output_type": "stream",
          "text": [
            "clover\n"
          ],
          "name": "stdout"
        }
      ]
    }
  ]
}