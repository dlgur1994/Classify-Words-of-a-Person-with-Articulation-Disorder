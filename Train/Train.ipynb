{
  "nbformat": 4,
  "nbformat_minor": 0,
  "metadata": {
    "colab": {
      "name": "Train.ipynb",
      "provenance": [],
      "collapsed_sections": []
    },
    "kernelspec": {
      "name": "python3",
      "display_name": "Python 3"
    },
    "language_info": {
      "name": "python"
    },
    "accelerator": "GPU"
  },
  "cells": [
    {
      "cell_type": "code",
      "metadata": {
        "colab": {
          "base_uri": "https://localhost:8080/"
        },
        "id": "g9B4xgKKC79X",
        "outputId": "df0ecddf-01e8-4ae1-cb44-70f3a6f0ee7d"
      },
      "source": [
        "from google.colab import drive\n",
        "drive.mount('/gdrive')"
      ],
      "execution_count": 2,
      "outputs": [
        {
          "output_type": "stream",
          "text": [
            "Drive already mounted at /gdrive; to attempt to forcibly remount, call drive.mount(\"/gdrive\", force_remount=True).\n"
          ],
          "name": "stdout"
        }
      ]
    },
    {
      "cell_type": "code",
      "metadata": {
        "id": "UksgfHpl_KVE"
      },
      "source": [
        "import tensorflow as tf\n",
        "from tensorflow import keras\n",
        "import numpy as np\n",
        "import matplotlib.pyplot as plt"
      ],
      "execution_count": 4,
      "outputs": []
    },
    {
      "cell_type": "code",
      "metadata": {
        "id": "28G5b7Ya_gWz"
      },
      "source": [
        "# define constants\n",
        "batch_size = 128\n",
        "epochs = 100\n",
        "num_classes = 9"
      ],
      "execution_count": 5,
      "outputs": []
    },
    {
      "cell_type": "code",
      "metadata": {
        "id": "Fmyg6z71XJEo"
      },
      "source": [
        "# load files\n",
        "train_X = np.load('/gdrive/MyDrive/Colab/Classify_Words_of_a_Person_with_Articulation_Disorder/data/train_X.npz')\n",
        "train_y = np.load('/gdrive/MyDrive/Colab/Classify_Words_of_a_Person_with_Articulation_Disorder/data/train_y.npz')\n",
        "val_X = np.load('/gdrive/MyDrive/Colab/Classify_Words_of_a_Person_with_Articulation_Disorder/data/val_X.npz')\n",
        "val_y = np.load('/gdrive/MyDrive/Colab/Classify_Words_of_a_Person_with_Articulation_Disorder/data/val_y.npz')\n",
        "test_X = np.load('/gdrive/MyDrive/Colab/Classify_Words_of_a_Person_with_Articulation_Disorder/data/test_X.npz')\n",
        "test_y = np.load('/gdrive/MyDrive/Colab/Classify_Words_of_a_Person_with_Articulation_Disorder/data/test_y.npz')"
      ],
      "execution_count": 6,
      "outputs": []
    },
    {
      "cell_type": "code",
      "metadata": {
        "id": "V07cHcDlAQyd"
      },
      "source": [
        "# define the model architecture with CNN\n",
        "model = keras.Sequential([\n",
        "                          keras.layers.Flatten(input_shape=(13,2300)),\n",
        "                          keras.layers.Reshape(target_shape=(13,2300,1)),\n",
        "                          keras.layers.Conv2D(filters=32, kernel_size=(3,3), activation=tf.nn.relu),\n",
        "                          keras.layers.Conv2D(filters=64, kernel_size=(3,3), activation=tf.nn.relu),\n",
        "                          keras.layers.Conv2D(filters=32, kernel_size=(3,3), activation=tf.nn.relu),\n",
        "                          keras.layers.MaxPooling2D(pool_size=(2,2)),\n",
        "                          keras.layers.Dropout(0.25), # abandon some to speed up execution and increase reliability\n",
        "                          keras.layers.Flatten(input_shape=(13,2300)),\n",
        "                          keras.layers.Dense(128, activation=tf.nn.relu),\n",
        "                          keras.layers.Dropout(0.5),\n",
        "                          keras.layers.Dense(num_classes, activation='softmax')\n",
        "])\n",
        "\n",
        "model.compile(optimizer='adam',\n",
        "              loss=tf.keras.losses.SparseCategoricalCrossentropy(from_logits=True),\n",
        "              metrics=['accuracy'])"
      ],
      "execution_count": 7,
      "outputs": []
    },
    {
      "cell_type": "code",
      "metadata": {
        "id": "uZCpqSXA9P--"
      },
      "source": [
        "# save the best model as digits_model.h5\n",
        "filepath = '/content/best_model.h5'\n",
        "model_checkpoint = keras.callbacks.ModelCheckpoint(filepath=filepath, save_best_only=True)\n",
        "\n",
        "# define a callback to prevent overfitting\n",
        "monitor_earlystop = keras.callbacks.EarlyStopping(monitor='val_loss', patience=5)"
      ],
      "execution_count": 8,
      "outputs": []
    },
    {
      "cell_type": "code",
      "metadata": {
        "colab": {
          "base_uri": "https://localhost:8080/"
        },
        "id": "I60J6mrplcm_",
        "outputId": "e2ccc45c-5260-4da4-8f8d-cd7840aa59e7"
      },
      "source": [
        "history = model.fit(train_X['X'], train_y['y'],\n",
        "                    validation_data=(val_X['X'], val_y['y']),\n",
        "                    epochs=epochs, batch_size=batch_size,\n",
        "                    callbacks=[model_checkpoint, monitor_earlystop])"
      ],
      "execution_count": 9,
      "outputs": [
        {
          "output_type": "stream",
          "text": [
            "Epoch 1/100\n"
          ],
          "name": "stdout"
        },
        {
          "output_type": "stream",
          "text": [
            "/usr/local/lib/python3.7/dist-packages/tensorflow/python/keras/backend.py:4930: UserWarning: \"`sparse_categorical_crossentropy` received `from_logits=True`, but the `output` argument was produced by a sigmoid or softmax activation and thus does not represent logits. Was this intended?\"\n",
            "  '\"`sparse_categorical_crossentropy` received `from_logits=True`, but '\n"
          ],
          "name": "stderr"
        },
        {
          "output_type": "stream",
          "text": [
            "4/4 [==============================] - 40s 2s/step - loss: 2.1655 - accuracy: 0.1899 - val_loss: 2.0493 - val_accuracy: 0.2745\n",
            "Epoch 2/100\n",
            "4/4 [==============================] - 1s 257ms/step - loss: 1.9381 - accuracy: 0.2667 - val_loss: 1.6026 - val_accuracy: 0.3464\n",
            "Epoch 3/100\n",
            "4/4 [==============================] - 1s 258ms/step - loss: 1.7806 - accuracy: 0.3111 - val_loss: 1.5391 - val_accuracy: 0.4248\n",
            "Epoch 4/100\n",
            "4/4 [==============================] - 1s 260ms/step - loss: 1.6444 - accuracy: 0.3152 - val_loss: 1.5436 - val_accuracy: 0.4183\n",
            "Epoch 5/100\n",
            "4/4 [==============================] - 1s 258ms/step - loss: 1.5892 - accuracy: 0.3576 - val_loss: 1.4253 - val_accuracy: 0.3791\n",
            "Epoch 6/100\n",
            "4/4 [==============================] - 1s 260ms/step - loss: 1.5035 - accuracy: 0.3960 - val_loss: 1.3683 - val_accuracy: 0.4641\n",
            "Epoch 7/100\n",
            "4/4 [==============================] - 1s 256ms/step - loss: 1.4131 - accuracy: 0.4424 - val_loss: 1.3166 - val_accuracy: 0.4706\n",
            "Epoch 8/100\n",
            "4/4 [==============================] - 1s 260ms/step - loss: 1.3175 - accuracy: 0.4848 - val_loss: 1.3151 - val_accuracy: 0.4706\n",
            "Epoch 9/100\n",
            "4/4 [==============================] - 1s 251ms/step - loss: 1.2792 - accuracy: 0.5030 - val_loss: 1.1738 - val_accuracy: 0.5556\n",
            "Epoch 10/100\n",
            "4/4 [==============================] - 1s 254ms/step - loss: 1.1431 - accuracy: 0.6020 - val_loss: 1.0619 - val_accuracy: 0.6340\n",
            "Epoch 11/100\n",
            "4/4 [==============================] - 1s 256ms/step - loss: 1.0406 - accuracy: 0.5879 - val_loss: 0.9668 - val_accuracy: 0.6405\n",
            "Epoch 12/100\n",
            "4/4 [==============================] - 1s 286ms/step - loss: 0.9406 - accuracy: 0.6586 - val_loss: 0.8320 - val_accuracy: 0.7059\n",
            "Epoch 13/100\n",
            "4/4 [==============================] - 1s 259ms/step - loss: 0.8011 - accuracy: 0.7293 - val_loss: 0.7400 - val_accuracy: 0.7712\n",
            "Epoch 14/100\n",
            "4/4 [==============================] - 1s 257ms/step - loss: 0.6613 - accuracy: 0.7919 - val_loss: 0.5073 - val_accuracy: 0.8235\n",
            "Epoch 15/100\n",
            "4/4 [==============================] - 1s 254ms/step - loss: 0.5148 - accuracy: 0.8343 - val_loss: 0.4566 - val_accuracy: 0.8627\n",
            "Epoch 16/100\n",
            "4/4 [==============================] - 1s 253ms/step - loss: 0.4394 - accuracy: 0.8788 - val_loss: 0.3240 - val_accuracy: 0.8824\n",
            "Epoch 17/100\n",
            "4/4 [==============================] - 1s 255ms/step - loss: 0.3149 - accuracy: 0.9212 - val_loss: 0.2774 - val_accuracy: 0.8889\n",
            "Epoch 18/100\n",
            "4/4 [==============================] - 1s 254ms/step - loss: 0.2798 - accuracy: 0.9232 - val_loss: 0.1895 - val_accuracy: 0.9216\n",
            "Epoch 19/100\n",
            "4/4 [==============================] - 1s 263ms/step - loss: 0.2363 - accuracy: 0.9232 - val_loss: 0.1498 - val_accuracy: 0.9346\n",
            "Epoch 20/100\n",
            "4/4 [==============================] - 1s 259ms/step - loss: 0.1925 - accuracy: 0.9273 - val_loss: 0.1334 - val_accuracy: 0.9477\n",
            "Epoch 21/100\n",
            "4/4 [==============================] - 1s 262ms/step - loss: 0.1497 - accuracy: 0.9596 - val_loss: 0.1045 - val_accuracy: 0.9673\n",
            "Epoch 22/100\n",
            "4/4 [==============================] - 1s 257ms/step - loss: 0.1162 - accuracy: 0.9677 - val_loss: 0.0826 - val_accuracy: 0.9869\n",
            "Epoch 23/100\n",
            "4/4 [==============================] - 1s 256ms/step - loss: 0.1298 - accuracy: 0.9475 - val_loss: 0.0860 - val_accuracy: 0.9739\n",
            "Epoch 24/100\n",
            "4/4 [==============================] - 1s 278ms/step - loss: 0.1019 - accuracy: 0.9677 - val_loss: 0.0861 - val_accuracy: 0.9739\n",
            "Epoch 25/100\n",
            "4/4 [==============================] - 1s 258ms/step - loss: 0.1100 - accuracy: 0.9657 - val_loss: 0.0628 - val_accuracy: 0.9739\n",
            "Epoch 26/100\n",
            "4/4 [==============================] - 1s 260ms/step - loss: 0.0672 - accuracy: 0.9818 - val_loss: 0.0649 - val_accuracy: 0.9739\n",
            "Epoch 27/100\n",
            "4/4 [==============================] - 1s 255ms/step - loss: 0.0649 - accuracy: 0.9859 - val_loss: 0.0492 - val_accuracy: 0.9739\n",
            "Epoch 28/100\n",
            "4/4 [==============================] - 1s 259ms/step - loss: 0.0667 - accuracy: 0.9818 - val_loss: 0.0399 - val_accuracy: 0.9935\n",
            "Epoch 29/100\n",
            "4/4 [==============================] - 1s 275ms/step - loss: 0.0837 - accuracy: 0.9717 - val_loss: 0.0414 - val_accuracy: 0.9935\n",
            "Epoch 30/100\n",
            "4/4 [==============================] - 1s 256ms/step - loss: 0.0510 - accuracy: 0.9879 - val_loss: 0.0408 - val_accuracy: 0.9869\n",
            "Epoch 31/100\n",
            "4/4 [==============================] - 1s 260ms/step - loss: 0.0590 - accuracy: 0.9778 - val_loss: 0.0523 - val_accuracy: 0.9739\n",
            "Epoch 32/100\n",
            "4/4 [==============================] - 1s 257ms/step - loss: 0.0602 - accuracy: 0.9838 - val_loss: 0.0373 - val_accuracy: 0.9869\n",
            "Epoch 33/100\n",
            "4/4 [==============================] - 1s 259ms/step - loss: 0.0387 - accuracy: 0.9919 - val_loss: 0.0391 - val_accuracy: 0.9935\n",
            "Epoch 34/100\n",
            "4/4 [==============================] - 1s 257ms/step - loss: 0.0391 - accuracy: 0.9879 - val_loss: 0.0304 - val_accuracy: 0.9935\n",
            "Epoch 35/100\n",
            "4/4 [==============================] - 1s 263ms/step - loss: 0.0399 - accuracy: 0.9919 - val_loss: 0.0255 - val_accuracy: 0.9935\n",
            "Epoch 36/100\n",
            "4/4 [==============================] - 1s 257ms/step - loss: 0.0312 - accuracy: 0.9939 - val_loss: 0.0332 - val_accuracy: 0.9935\n",
            "Epoch 37/100\n",
            "4/4 [==============================] - 1s 259ms/step - loss: 0.0361 - accuracy: 0.9899 - val_loss: 0.0386 - val_accuracy: 0.9935\n",
            "Epoch 38/100\n",
            "4/4 [==============================] - 1s 259ms/step - loss: 0.0324 - accuracy: 0.9899 - val_loss: 0.0245 - val_accuracy: 0.9935\n",
            "Epoch 39/100\n",
            "4/4 [==============================] - 1s 260ms/step - loss: 0.0414 - accuracy: 0.9879 - val_loss: 0.0276 - val_accuracy: 0.9935\n",
            "Epoch 40/100\n",
            "4/4 [==============================] - 1s 257ms/step - loss: 0.0292 - accuracy: 0.9939 - val_loss: 0.0408 - val_accuracy: 0.9804\n",
            "Epoch 41/100\n",
            "4/4 [==============================] - 1s 257ms/step - loss: 0.0246 - accuracy: 0.9939 - val_loss: 0.0420 - val_accuracy: 0.9804\n",
            "Epoch 42/100\n",
            "4/4 [==============================] - 1s 258ms/step - loss: 0.0416 - accuracy: 0.9838 - val_loss: 0.0395 - val_accuracy: 0.9804\n",
            "Epoch 43/100\n",
            "4/4 [==============================] - 1s 258ms/step - loss: 0.0198 - accuracy: 0.9919 - val_loss: 0.0400 - val_accuracy: 0.9804\n"
          ],
          "name": "stdout"
        }
      ]
    },
    {
      "cell_type": "code",
      "metadata": {
        "colab": {
          "base_uri": "https://localhost:8080/"
        },
        "id": "zR0BrdCdOjw3",
        "outputId": "41c66250-b6ec-4786-ba8e-f80fe07c707c"
      },
      "source": [
        "model.summary()"
      ],
      "execution_count": 10,
      "outputs": [
        {
          "output_type": "stream",
          "text": [
            "Model: \"sequential\"\n",
            "_________________________________________________________________\n",
            "Layer (type)                 Output Shape              Param #   \n",
            "=================================================================\n",
            "flatten (Flatten)            (None, 29900)             0         \n",
            "_________________________________________________________________\n",
            "reshape (Reshape)            (None, 13, 2300, 1)       0         \n",
            "_________________________________________________________________\n",
            "conv2d (Conv2D)              (None, 11, 2298, 32)      320       \n",
            "_________________________________________________________________\n",
            "conv2d_1 (Conv2D)            (None, 9, 2296, 64)       18496     \n",
            "_________________________________________________________________\n",
            "conv2d_2 (Conv2D)            (None, 7, 2294, 32)       18464     \n",
            "_________________________________________________________________\n",
            "max_pooling2d (MaxPooling2D) (None, 3, 1147, 32)       0         \n",
            "_________________________________________________________________\n",
            "dropout (Dropout)            (None, 3, 1147, 32)       0         \n",
            "_________________________________________________________________\n",
            "flatten_1 (Flatten)          (None, 110112)            0         \n",
            "_________________________________________________________________\n",
            "dense (Dense)                (None, 128)               14094464  \n",
            "_________________________________________________________________\n",
            "dropout_1 (Dropout)          (None, 128)               0         \n",
            "_________________________________________________________________\n",
            "dense_1 (Dense)              (None, 9)                 1161      \n",
            "=================================================================\n",
            "Total params: 14,132,905\n",
            "Trainable params: 14,132,905\n",
            "Non-trainable params: 0\n",
            "_________________________________________________________________\n"
          ],
          "name": "stdout"
        }
      ]
    },
    {
      "cell_type": "code",
      "metadata": {
        "colab": {
          "base_uri": "https://localhost:8080/",
          "height": 541
        },
        "id": "0br5hnvl7FqP",
        "outputId": "46d7970c-f674-43f1-d7dc-2504b07ea6d7"
      },
      "source": [
        "# evaluate the model using graphs\n",
        "fig, ax_loss = plt.subplots()\n",
        "fig, ax_acc = plt.subplots()\n",
        "\n",
        "ax_loss.plot(history.history['loss'], label=\"train loss\")\n",
        "ax_loss.plot(history.history['val_loss'], label=\"validation loss\")\n",
        "ax_loss.set_xlabel('epoch')\n",
        "ax_loss.set_ylabel('loss')\n",
        "ax_loss.legend(loc='upper right')\n",
        "\n",
        "ax_acc.plot(history.history['accuracy'], label=\"train accuracy\")\n",
        "ax_acc.plot(history.history['val_accuracy'], label=\"validation accuracy\")\n",
        "ax_acc.set_xlabel('epoch')\n",
        "ax_acc.set_ylabel('accuracy')\n",
        "ax_acc.legend(loc='lower right')\n",
        "\n",
        "plt.show()"
      ],
      "execution_count": 11,
      "outputs": [
        {
          "output_type": "display_data",
          "data": {
            "image/png": "[encoded data removed]",
            "text/plain": [
              "<Figure size 432x288 with 1 Axes>"
            ]
          },
          "metadata": {
            "tags": [],
            "needs_background": "light"
          }
        },
        {
          "output_type": "display_data",
          "data": {
            "image/png": "[encoded data removed]",
            "text/plain": [
              "<Figure size 432x288 with 1 Axes>"
            ]
          },
          "metadata": {
            "tags": [],
            "needs_background": "light"
          }
        }
      ]
    },
    {
      "cell_type": "code",
      "metadata": {
        "colab": {
          "base_uri": "https://localhost:8080/"
        },
        "id": "yFq5Bkrl22Gn",
        "outputId": "b2991aa9-6a6c-41f5-8041-e5a673fe00ae"
      },
      "source": [
        "# evaluate the model using test dataset\n",
        "test_loss, test_acc = model.evaluate(test_X['X'], test_y['y'])\n",
        "print(\"Test Accuracy: \", test_acc)"
      ],
      "execution_count": 12,
      "outputs": [
        {
          "output_type": "stream",
          "text": [
            "5/5 [==============================] - 1s 18ms/step - loss: 0.1195 - accuracy: 0.9608\n",
            "Test Accuracy:  0.9607843160629272\n"
          ],
          "name": "stdout"
        }
      ]
    },
    {
      "cell_type": "code",
      "metadata": {
        "id": "DA7THNYX2QX1",
        "colab": {
          "base_uri": "https://localhost:8080/",
          "height": 17
        },
        "outputId": "483251f6-4ced-4860-d7f9-331db93023f8"
      },
      "source": [
        "# download the model for testing\n",
        "from google.colab import files\n",
        "files.download(filepath)"
      ],
      "execution_count": 13,
      "outputs": [
        {
          "output_type": "display_data",
          "data": {
            "application/javascript": [
              "\n",
              "    async function download(id, filename, size) {\n",
              "      if (!google.colab.kernel.accessAllowed) {\n",
              "        return;\n",
              "      }\n",
              "      const div = document.createElement('div');\n",
              "      const label = document.createElement('label');\n",
              "      label.textContent = `Downloading \"${filename}\": `;\n",
              "      div.appendChild(label);\n",
              "      const progress = document.createElement('progress');\n",
              "      progress.max = size;\n",
              "      div.appendChild(progress);\n",
              "      document.body.appendChild(div);\n",
              "\n",
              "      const buffers = [];\n",
              "      let downloaded = 0;\n",
              "\n",
              "      const channel = await google.colab.kernel.comms.open(id);\n",
              "      // Send a message to notify the kernel that we're ready.\n",
              "      channel.send({})\n",
              "\n",
              "      for await (const message of channel.messages) {\n",
              "        // Send a message to notify the kernel that we're ready.\n",
              "        channel.send({})\n",
              "        if (message.buffers) {\n",
              "          for (const buffer of message.buffers) {\n",
              "            buffers.push(buffer);\n",
              "            downloaded += buffer.byteLength;\n",
              "            progress.value = downloaded;\n",
              "          }\n",
              "        }\n",
              "      }\n",
              "      const blob = new Blob(buffers, {type: 'application/binary'});\n",
              "      const a = document.createElement('a');\n",
              "      a.href = window.URL.createObjectURL(blob);\n",
              "      a.download = filename;\n",
              "      div.appendChild(a);\n",
              "      a.click();\n",
              "      div.remove();\n",
              "    }\n",
              "  "
            ],
            "text/plain": [
              "<IPython.core.display.Javascript object>"
            ]
          },
          "metadata": {
            "tags": []
          }
        },
        {
          "output_type": "display_data",
          "data": {
            "application/javascript": [
              "download(\"download_9098775e-c78c-4299-ad7d-f14db443c8bc\", \"best_model.h5\", 169649600)"
            ],
            "text/plain": [
              "<IPython.core.display.Javascript object>"
            ]
          },
          "metadata": {
            "tags": []
          }
        }
      ]
    }
  ]
}