{
  "nbformat": 4,
  "nbformat_minor": 0,
  "metadata": {
    "colab": {
      "name": "Train.ipynb",
      "provenance": [],
      "collapsed_sections": []
    },
    "kernelspec": {
      "name": "python3",
      "display_name": "Python 3"
    },
    "language_info": {
      "name": "python"
    },
    "accelerator": "GPU"
  },
  "cells": [
    {
      "cell_type": "code",
      "metadata": {
        "colab": {
          "base_uri": "https://localhost:8080/"
        },
        "id": "g9B4xgKKC79X",
        "outputId": "a8e6b167-8b7a-49f2-86b6-9548251d35a0"
      },
      "source": [
        "from google.colab import drive\n",
        "drive.mount('/gdrive')"
      ],
      "execution_count": 1,
      "outputs": [
        {
          "output_type": "stream",
          "text": [
            "Mounted at /gdrive\n"
          ],
          "name": "stdout"
        }
      ]
    },
    {
      "cell_type": "code",
      "metadata": {
        "id": "UksgfHpl_KVE"
      },
      "source": [
        "import tensorflow as tf\n",
        "from tensorflow import keras\n",
        "import numpy as np\n",
        "import matplotlib.pyplot as plt\n",
        "import math"
      ],
      "execution_count": 2,
      "outputs": []
    },
    {
      "cell_type": "code",
      "metadata": {
        "id": "28G5b7Ya_gWz"
      },
      "source": [
        "# define constants\n",
        "batch_size = 128\n",
        "epochs = 100\n",
        "num_classes = 9"
      ],
      "execution_count": 3,
      "outputs": []
    },
    {
      "cell_type": "code",
      "metadata": {
        "id": "Fmyg6z71XJEo"
      },
      "source": [
        "# load files\n",
        "train_X = np.load('/gdrive/MyDrive/Colab/Classify_Words_of_a_Person_with_Articulation_Disorder/data/train_X.npz')\n",
        "train_y = np.load('/gdrive/MyDrive/Colab/Classify_Words_of_a_Person_with_Articulation_Disorder/data/train_y.npz')\n",
        "test_X = np.load('/gdrive/MyDrive/Colab/Classify_Words_of_a_Person_with_Articulation_Disorder/data/test_X.npz')\n",
        "test_y = np.load('/gdrive/MyDrive/Colab/Classify_Words_of_a_Person_with_Articulation_Disorder/data/test_y.npz')"
      ],
      "execution_count": 4,
      "outputs": []
    },
    {
      "cell_type": "code",
      "metadata": {
        "id": "V07cHcDlAQyd"
      },
      "source": [
        "# define the model architecture with CNN\n",
        "model = keras.Sequential([\n",
        "                          keras.layers.Flatten(input_shape=(13,2300)),\n",
        "                          keras.layers.Reshape(target_shape=(13,2300,1)),\n",
        "                          keras.layers.Conv2D(filters=32, kernel_size=(3,3), activation=tf.nn.relu),\n",
        "                          keras.layers.Conv2D(filters=64, kernel_size=(3,3), activation=tf.nn.relu),\n",
        "                          keras.layers.Conv2D(filters=32, kernel_size=(3,3), activation=tf.nn.relu),\n",
        "                          keras.layers.MaxPooling2D(pool_size=(2,2)),\n",
        "                          keras.layers.Dropout(0.25), # abandon some to speed up execution and increase reliability\n",
        "                          keras.layers.Flatten(input_shape=(13,2300)),\n",
        "                          keras.layers.Dense(128, activation=tf.nn.relu),\n",
        "                          keras.layers.Dropout(0.5),\n",
        "                          keras.layers.Dense(num_classes, activation='softmax')\n",
        "])\n",
        "\n",
        "model.compile(optimizer='adam',\n",
        "              loss=tf.keras.losses.SparseCategoricalCrossentropy(from_logits=True),\n",
        "              metrics=['accuracy'])"
      ],
      "execution_count": 5,
      "outputs": []
    },
    {
      "cell_type": "code",
      "metadata": {
        "id": "uZCpqSXA9P--"
      },
      "source": [
        "# save the best model as digits_model.h5\n",
        "filepath = '/content/best_model.h5'\n",
        "model_checkpoint = keras.callbacks.ModelCheckpoint(filepath=filepath, save_best_only=True)\n",
        "\n",
        "# define a callback to prevent overfitting\n",
        "monitor_earlystop = keras.callbacks.EarlyStopping(monitor='val_loss', patience=5)"
      ],
      "execution_count": 6,
      "outputs": []
    },
    {
      "cell_type": "code",
      "metadata": {
        "colab": {
          "base_uri": "https://localhost:8080/"
        },
        "id": "I60J6mrplcm_",
        "outputId": "c8998c55-9a0a-45f8-983b-d623deb4f35e"
      },
      "source": [
        "history = model.fit(train_X['X'], train_y['y'],\n",
        "                    validation_data=(test_X['X'], test_y['y']),\n",
        "                    epochs=epochs, batch_size=batch_size,\n",
        "                    callbacks=[model_checkpoint, monitor_earlystop])"
      ],
      "execution_count": 7,
      "outputs": [
        {
          "output_type": "stream",
          "text": [
            "Epoch 1/100\n"
          ],
          "name": "stdout"
        },
        {
          "output_type": "stream",
          "text": [
            "/usr/local/lib/python3.7/dist-packages/tensorflow/python/keras/backend.py:4930: UserWarning: \"`sparse_categorical_crossentropy` received `from_logits=True`, but the `output` argument was produced by a sigmoid or softmax activation and thus does not represent logits. Was this intended?\"\n",
            "  '\"`sparse_categorical_crossentropy` received `from_logits=True`, but '\n"
          ],
          "name": "stderr"
        },
        {
          "output_type": "stream",
          "text": [
            "6/6 [==============================] - 37s 388ms/step - loss: 2.1522 - accuracy: 0.1806 - val_loss: 1.9175 - val_accuracy: 0.2941\n",
            "Epoch 2/100\n",
            "6/6 [==============================] - 1s 211ms/step - loss: 1.8930 - accuracy: 0.2762 - val_loss: 1.6634 - val_accuracy: 0.2680\n",
            "Epoch 3/100\n",
            "6/6 [==============================] - 1s 213ms/step - loss: 1.7316 - accuracy: 0.2901 - val_loss: 1.5672 - val_accuracy: 0.3660\n",
            "Epoch 4/100\n",
            "6/6 [==============================] - 1s 208ms/step - loss: 1.6314 - accuracy: 0.3318 - val_loss: 1.5078 - val_accuracy: 0.3856\n",
            "Epoch 5/100\n",
            "6/6 [==============================] - 1s 210ms/step - loss: 1.5914 - accuracy: 0.3580 - val_loss: 1.4839 - val_accuracy: 0.3464\n",
            "Epoch 6/100\n",
            "6/6 [==============================] - 1s 208ms/step - loss: 1.5779 - accuracy: 0.3194 - val_loss: 1.4530 - val_accuracy: 0.4444\n",
            "Epoch 7/100\n",
            "6/6 [==============================] - 1s 211ms/step - loss: 1.5185 - accuracy: 0.3781 - val_loss: 1.4458 - val_accuracy: 0.3595\n",
            "Epoch 8/100\n",
            "6/6 [==============================] - 1s 211ms/step - loss: 1.4491 - accuracy: 0.4151 - val_loss: 1.4311 - val_accuracy: 0.3922\n",
            "Epoch 9/100\n",
            "6/6 [==============================] - 1s 212ms/step - loss: 1.4570 - accuracy: 0.3981 - val_loss: 1.3907 - val_accuracy: 0.4379\n",
            "Epoch 10/100\n",
            "6/6 [==============================] - 1s 209ms/step - loss: 1.4141 - accuracy: 0.4383 - val_loss: 1.4357 - val_accuracy: 0.3987\n",
            "Epoch 11/100\n",
            "6/6 [==============================] - 1s 210ms/step - loss: 1.3696 - accuracy: 0.4522 - val_loss: 1.3722 - val_accuracy: 0.5098\n",
            "Epoch 12/100\n",
            "6/6 [==============================] - 1s 210ms/step - loss: 1.3622 - accuracy: 0.4444 - val_loss: 1.3592 - val_accuracy: 0.4837\n",
            "Epoch 13/100\n",
            "6/6 [==============================] - 1s 209ms/step - loss: 1.2561 - accuracy: 0.5015 - val_loss: 1.2701 - val_accuracy: 0.5294\n",
            "Epoch 14/100\n",
            "6/6 [==============================] - 1s 211ms/step - loss: 1.2378 - accuracy: 0.4985 - val_loss: 1.2169 - val_accuracy: 0.5686\n",
            "Epoch 15/100\n",
            "6/6 [==============================] - 1s 209ms/step - loss: 1.1452 - accuracy: 0.5694 - val_loss: 1.2144 - val_accuracy: 0.5686\n",
            "Epoch 16/100\n",
            "6/6 [==============================] - 1s 211ms/step - loss: 1.1050 - accuracy: 0.5710 - val_loss: 1.1009 - val_accuracy: 0.6144\n",
            "Epoch 17/100\n",
            "6/6 [==============================] - 1s 210ms/step - loss: 1.1232 - accuracy: 0.5772 - val_loss: 1.1832 - val_accuracy: 0.6144\n",
            "Epoch 18/100\n",
            "6/6 [==============================] - 1s 211ms/step - loss: 1.0407 - accuracy: 0.5926 - val_loss: 0.9029 - val_accuracy: 0.6928\n",
            "Epoch 19/100\n",
            "6/6 [==============================] - 1s 224ms/step - loss: 0.9112 - accuracy: 0.6528 - val_loss: 0.9140 - val_accuracy: 0.7386\n",
            "Epoch 20/100\n",
            "6/6 [==============================] - 1s 213ms/step - loss: 0.8415 - accuracy: 0.6636 - val_loss: 0.7224 - val_accuracy: 0.7516\n",
            "Epoch 21/100\n",
            "6/6 [==============================] - 1s 216ms/step - loss: 0.7137 - accuracy: 0.7284 - val_loss: 0.6912 - val_accuracy: 0.7778\n",
            "Epoch 22/100\n",
            "6/6 [==============================] - 1s 227ms/step - loss: 0.6640 - accuracy: 0.7454 - val_loss: 0.5793 - val_accuracy: 0.7908\n",
            "Epoch 23/100\n",
            "6/6 [==============================] - 1s 215ms/step - loss: 0.5755 - accuracy: 0.7778 - val_loss: 0.5302 - val_accuracy: 0.8301\n",
            "Epoch 24/100\n",
            "6/6 [==============================] - 1s 213ms/step - loss: 0.5076 - accuracy: 0.8102 - val_loss: 0.4720 - val_accuracy: 0.8497\n",
            "Epoch 25/100\n",
            "6/6 [==============================] - 1s 214ms/step - loss: 0.4937 - accuracy: 0.8272 - val_loss: 0.4794 - val_accuracy: 0.8497\n",
            "Epoch 26/100\n",
            "6/6 [==============================] - 1s 216ms/step - loss: 0.5651 - accuracy: 0.7978 - val_loss: 0.4669 - val_accuracy: 0.8497\n",
            "Epoch 27/100\n",
            "6/6 [==============================] - 1s 217ms/step - loss: 0.4979 - accuracy: 0.8318 - val_loss: 0.4226 - val_accuracy: 0.8562\n",
            "Epoch 28/100\n",
            "6/6 [==============================] - 1s 217ms/step - loss: 0.4158 - accuracy: 0.8627 - val_loss: 0.4781 - val_accuracy: 0.8366\n",
            "Epoch 29/100\n",
            "6/6 [==============================] - 1s 216ms/step - loss: 0.4067 - accuracy: 0.8441 - val_loss: 0.4192 - val_accuracy: 0.8627\n",
            "Epoch 30/100\n",
            "6/6 [==============================] - 1s 216ms/step - loss: 0.4458 - accuracy: 0.8380 - val_loss: 0.5162 - val_accuracy: 0.8235\n",
            "Epoch 31/100\n",
            "6/6 [==============================] - 1s 215ms/step - loss: 0.3858 - accuracy: 0.8611 - val_loss: 0.3711 - val_accuracy: 0.8954\n",
            "Epoch 32/100\n",
            "6/6 [==============================] - 1s 216ms/step - loss: 0.3539 - accuracy: 0.8781 - val_loss: 0.4023 - val_accuracy: 0.8497\n",
            "Epoch 33/100\n",
            "6/6 [==============================] - 1s 216ms/step - loss: 0.3785 - accuracy: 0.8704 - val_loss: 0.3655 - val_accuracy: 0.8954\n",
            "Epoch 34/100\n",
            "6/6 [==============================] - 1s 216ms/step - loss: 0.3154 - accuracy: 0.8920 - val_loss: 0.4039 - val_accuracy: 0.8758\n",
            "Epoch 35/100\n",
            "6/6 [==============================] - 1s 217ms/step - loss: 0.3309 - accuracy: 0.8719 - val_loss: 0.3260 - val_accuracy: 0.9085\n",
            "Epoch 36/100\n",
            "6/6 [==============================] - 1s 230ms/step - loss: 0.3407 - accuracy: 0.8688 - val_loss: 0.3521 - val_accuracy: 0.8758\n",
            "Epoch 37/100\n",
            "6/6 [==============================] - 1s 217ms/step - loss: 0.3048 - accuracy: 0.8904 - val_loss: 0.3189 - val_accuracy: 0.9020\n",
            "Epoch 38/100\n",
            "6/6 [==============================] - 1s 218ms/step - loss: 0.2434 - accuracy: 0.9182 - val_loss: 0.2968 - val_accuracy: 0.9150\n",
            "Epoch 39/100\n",
            "6/6 [==============================] - 1s 218ms/step - loss: 0.2061 - accuracy: 0.9259 - val_loss: 0.3069 - val_accuracy: 0.9085\n",
            "Epoch 40/100\n",
            "6/6 [==============================] - 1s 216ms/step - loss: 0.2415 - accuracy: 0.9244 - val_loss: 0.2646 - val_accuracy: 0.9346\n",
            "Epoch 41/100\n",
            "6/6 [==============================] - 1s 219ms/step - loss: 0.2068 - accuracy: 0.9306 - val_loss: 0.2465 - val_accuracy: 0.9216\n",
            "Epoch 42/100\n",
            "6/6 [==============================] - 1s 218ms/step - loss: 0.2198 - accuracy: 0.9228 - val_loss: 0.2628 - val_accuracy: 0.9281\n",
            "Epoch 43/100\n",
            "6/6 [==============================] - 1s 218ms/step - loss: 0.1850 - accuracy: 0.9275 - val_loss: 0.2510 - val_accuracy: 0.9346\n",
            "Epoch 44/100\n",
            "6/6 [==============================] - 1s 221ms/step - loss: 0.1981 - accuracy: 0.9275 - val_loss: 0.2361 - val_accuracy: 0.9216\n",
            "Epoch 45/100\n",
            "6/6 [==============================] - 1s 221ms/step - loss: 0.1417 - accuracy: 0.9568 - val_loss: 0.2302 - val_accuracy: 0.9477\n",
            "Epoch 46/100\n",
            "6/6 [==============================] - 1s 219ms/step - loss: 0.1741 - accuracy: 0.9367 - val_loss: 0.1974 - val_accuracy: 0.9412\n",
            "Epoch 47/100\n",
            "6/6 [==============================] - 1s 230ms/step - loss: 0.1699 - accuracy: 0.9383 - val_loss: 0.2067 - val_accuracy: 0.9346\n",
            "Epoch 48/100\n",
            "6/6 [==============================] - 1s 217ms/step - loss: 0.1587 - accuracy: 0.9398 - val_loss: 0.2135 - val_accuracy: 0.9346\n",
            "Epoch 49/100\n",
            "6/6 [==============================] - 1s 217ms/step - loss: 0.1169 - accuracy: 0.9645 - val_loss: 0.2111 - val_accuracy: 0.9346\n",
            "Epoch 50/100\n",
            "6/6 [==============================] - 1s 218ms/step - loss: 0.1206 - accuracy: 0.9614 - val_loss: 0.3922 - val_accuracy: 0.8693\n",
            "Epoch 51/100\n",
            "6/6 [==============================] - 1s 219ms/step - loss: 0.5134 - accuracy: 0.8457 - val_loss: 0.3408 - val_accuracy: 0.9150\n"
          ],
          "name": "stdout"
        }
      ]
    },
    {
      "cell_type": "code",
      "metadata": {
        "colab": {
          "base_uri": "https://localhost:8080/"
        },
        "id": "zR0BrdCdOjw3",
        "outputId": "b0afe1f3-d2d4-48ee-e8b1-04fa7a95f559"
      },
      "source": [
        "model.summary()"
      ],
      "execution_count": 8,
      "outputs": [
        {
          "output_type": "stream",
          "text": [
            "Model: \"sequential\"\n",
            "_________________________________________________________________\n",
            "Layer (type)                 Output Shape              Param #   \n",
            "=================================================================\n",
            "flatten (Flatten)            (None, 29900)             0         \n",
            "_________________________________________________________________\n",
            "reshape (Reshape)            (None, 13, 2300, 1)       0         \n",
            "_________________________________________________________________\n",
            "conv2d (Conv2D)              (None, 11, 2298, 32)      320       \n",
            "_________________________________________________________________\n",
            "conv2d_1 (Conv2D)            (None, 9, 2296, 64)       18496     \n",
            "_________________________________________________________________\n",
            "conv2d_2 (Conv2D)            (None, 7, 2294, 32)       18464     \n",
            "_________________________________________________________________\n",
            "max_pooling2d (MaxPooling2D) (None, 3, 1147, 32)       0         \n",
            "_________________________________________________________________\n",
            "dropout (Dropout)            (None, 3, 1147, 32)       0         \n",
            "_________________________________________________________________\n",
            "flatten_1 (Flatten)          (None, 110112)            0         \n",
            "_________________________________________________________________\n",
            "dense (Dense)                (None, 128)               14094464  \n",
            "_________________________________________________________________\n",
            "dropout_1 (Dropout)          (None, 128)               0         \n",
            "_________________________________________________________________\n",
            "dense_1 (Dense)              (None, 9)                 1161      \n",
            "=================================================================\n",
            "Total params: 14,132,905\n",
            "Trainable params: 14,132,905\n",
            "Non-trainable params: 0\n",
            "_________________________________________________________________\n"
          ],
          "name": "stdout"
        }
      ]
    },
    {
      "cell_type": "code",
      "metadata": {
        "colab": {
          "base_uri": "https://localhost:8080/"
        },
        "id": "yFq5Bkrl22Gn",
        "outputId": "65b3caf8-beac-4886-e733-505f1716ab10"
      },
      "source": [
        "# evaluate the model using test dataset\n",
        "test_loss, test_acc = model.evaluate(test_X['X'], test_y['y'])\n",
        "print(\"Test Accuracy: \", test_acc)"
      ],
      "execution_count": 9,
      "outputs": [
        {
          "output_type": "stream",
          "text": [
            "5/5 [==============================] - 1s 18ms/step - loss: 0.3408 - accuracy: 0.9150\n",
            "Test Accuracy:  0.915032684803009\n"
          ],
          "name": "stdout"
        }
      ]
    },
    {
      "cell_type": "code",
      "metadata": {
        "colab": {
          "base_uri": "https://localhost:8080/",
          "height": 548
        },
        "id": "0br5hnvl7FqP",
        "outputId": "8aee3e37-6ffb-420b-b52e-fc4e8b02821f"
      },
      "source": [
        "# evaluate the model using graphs\n",
        "fig, ax_loss = plt.subplots()\n",
        "fig, ax_acc = plt.subplots()\n",
        "\n",
        "ax_loss.plot(history.history['loss'], label=\"train loss\")\n",
        "ax_loss.plot(history.history['val_loss'], label=\"validation loss\")\n",
        "ax_loss.set_xlabel('epoch')\n",
        "ax_loss.set_ylabel('loss')\n",
        "ax_loss.legend(loc='upper right')\n",
        "\n",
        "ax_acc.plot(history.history['accuracy'], label=\"train accuracy\")\n",
        "ax_acc.plot(history.history['val_accuracy'], label=\"validation accuracy\")\n",
        "ax_acc.set_xlabel('epoch')\n",
        "ax_acc.set_ylabel('accuracy')\n",
        "ax_acc.legend(loc='lower right')\n",
        "\n",
        "plt.show()"
      ],
      "execution_count": 10,
      "outputs": [
        {
          "output_type": "display_data",
          "data": {
            "image/png": "[encoded data removed]",
            "text/plain": [
              "<Figure size 432x288 with 1 Axes>"
            ]
          },
          "metadata": {
            "tags": [],
            "needs_background": "light"
          }
        },
        {
          "output_type": "display_data",
          "data": {
            "image/png": "[encoded data removed]",
            "text/plain": [
              "<Figure size 432x288 with 1 Axes>"
            ]
          },
          "metadata": {
            "tags": [],
            "needs_background": "light"
          }
        }
      ]
    },
    {
      "cell_type": "code",
      "metadata": {
        "id": "DA7THNYX2QX1",
        "colab": {
          "base_uri": "https://localhost:8080/",
          "height": 34
        },
        "outputId": "1de5c00f-2a52-4509-808d-23b18f6b1fe7"
      },
      "source": [
        "# download the model for testing\n",
        "from google.colab import files\n",
        "files.download(filepath)"
      ],
      "execution_count": null,
      "outputs": [
        {
          "output_type": "display_data",
          "data": {
            "application/javascript": [
              "\n",
              "    async function download(id, filename, size) {\n",
              "      if (!google.colab.kernel.accessAllowed) {\n",
              "        return;\n",
              "      }\n",
              "      const div = document.createElement('div');\n",
              "      const label = document.createElement('label');\n",
              "      label.textContent = `Downloading \"${filename}\": `;\n",
              "      div.appendChild(label);\n",
              "      const progress = document.createElement('progress');\n",
              "      progress.max = size;\n",
              "      div.appendChild(progress);\n",
              "      document.body.appendChild(div);\n",
              "\n",
              "      const buffers = [];\n",
              "      let downloaded = 0;\n",
              "\n",
              "      const channel = await google.colab.kernel.comms.open(id);\n",
              "      // Send a message to notify the kernel that we're ready.\n",
              "      channel.send({})\n",
              "\n",
              "      for await (const message of channel.messages) {\n",
              "        // Send a message to notify the kernel that we're ready.\n",
              "        channel.send({})\n",
              "        if (message.buffers) {\n",
              "          for (const buffer of message.buffers) {\n",
              "            buffers.push(buffer);\n",
              "            downloaded += buffer.byteLength;\n",
              "            progress.value = downloaded;\n",
              "          }\n",
              "        }\n",
              "      }\n",
              "      const blob = new Blob(buffers, {type: 'application/binary'});\n",
              "      const a = document.createElement('a');\n",
              "      a.href = window.URL.createObjectURL(blob);\n",
              "      a.download = filename;\n",
              "      div.appendChild(a);\n",
              "      a.click();\n",
              "      div.remove();\n",
              "    }\n",
              "  "
            ],
            "text/plain": [
              "<IPython.core.display.Javascript object>"
            ]
          },
          "metadata": {
            "tags": []
          }
        },
        {
          "output_type": "display_data",
          "data": {
            "application/javascript": [
              "download(\"download_e91fefac-5f1c-4f14-887c-ebdf9624f6ae\", \"best_model.h5\", 169649600)"
            ],
            "text/plain": [
              "<IPython.core.display.Javascript object>"
            ]
          },
          "metadata": {
            "tags": []
          }
        }
      ]
    }
  ]
}