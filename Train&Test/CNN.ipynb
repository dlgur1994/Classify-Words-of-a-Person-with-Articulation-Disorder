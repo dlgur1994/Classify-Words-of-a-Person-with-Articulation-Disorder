{
  "nbformat": 4,
  "nbformat_minor": 0,
  "metadata": {
    "colab": {
      "name": "CNN.ipynb",
      "provenance": []
    },
    "kernelspec": {
      "name": "python3",
      "display_name": "Python 3"
    },
    "language_info": {
      "name": "python"
    },
    "accelerator": "GPU"
  },
  "cells": [
    {
      "cell_type": "code",
      "metadata": {
        "colab": {
          "base_uri": "https://localhost:8080/"
        },
        "id": "g9B4xgKKC79X",
        "outputId": "d455b888-3504-4bc8-d3cb-090ca234c76c"
      },
      "source": [
        "from google.colab import drive\n",
        "drive.mount('/gdrive')"
      ],
      "execution_count": 66,
      "outputs": [
        {
          "output_type": "stream",
          "text": [
            "Drive already mounted at /gdrive; to attempt to forcibly remount, call drive.mount(\"/gdrive\", force_remount=True).\n"
          ],
          "name": "stdout"
        }
      ]
    },
    {
      "cell_type": "code",
      "metadata": {
        "id": "UksgfHpl_KVE"
      },
      "source": [
        "import tensorflow as tf\n",
        "from tensorflow import keras\n",
        "import numpy as np\n",
        "import matplotlib.pyplot as plt\n",
        "import math"
      ],
      "execution_count": 67,
      "outputs": []
    },
    {
      "cell_type": "code",
      "metadata": {
        "id": "Fmyg6z71XJEo"
      },
      "source": [
        "# load files\n",
        "train_X = np.load('/gdrive/MyDrive/Colab/Classify_Words_of_a_Person_with_Articulation_Disorder/data/train_X.npz')\n",
        "train_y = np.load('/gdrive/MyDrive/Colab/Classify_Words_of_a_Person_with_Articulation_Disorder/data/train_y.npz')\n",
        "test_X = np.load('/gdrive/MyDrive/Colab/Classify_Words_of_a_Person_with_Articulation_Disorder/data/test_X.npz')\n",
        "test_y = np.load('/gdrive/MyDrive/Colab/Classify_Words_of_a_Person_with_Articulation_Disorder/data/test_y.npz')"
      ],
      "execution_count": 68,
      "outputs": []
    },
    {
      "cell_type": "code",
      "metadata": {
        "id": "28G5b7Ya_gWz"
      },
      "source": [
        "# define constants\n",
        "batch_size = 128\n",
        "epochs = 100\n",
        "num_classes = 9"
      ],
      "execution_count": 69,
      "outputs": []
    },
    {
      "cell_type": "code",
      "metadata": {
        "colab": {
          "base_uri": "https://localhost:8080/"
        },
        "id": "3tmMnUWvAMzB",
        "outputId": "e5d85774-9a56-45fc-9e8a-03eaecca9e53"
      },
      "source": [
        "len(train_X['X']), len(train_y['y']), len(test_X['X']), len(test_y['y'])"
      ],
      "execution_count": 70,
      "outputs": [
        {
          "output_type": "execute_result",
          "data": {
            "text/plain": [
              "(648, 648, 153, 153)"
            ]
          },
          "metadata": {
            "tags": []
          },
          "execution_count": 70
        }
      ]
    },
    {
      "cell_type": "code",
      "metadata": {
        "id": "V07cHcDlAQyd"
      },
      "source": [
        "# define the model architecture with CNN\n",
        "model = keras.Sequential([\n",
        "                          keras.layers.Flatten(input_shape=(13,2300)),\n",
        "                          # hidden layers\n",
        "                          keras.layers.Reshape(target_shape=(13,2300,1)),\n",
        "                          keras.layers.Conv2D(filters=32, kernel_size=(3,3), activation=tf.nn.relu),\n",
        "                          keras.layers.Conv2D(filters=64, kernel_size=(3,3), activation=tf.nn.relu),\n",
        "                          keras.layers.Conv2D(filters=32, kernel_size=(3,3), activation=tf.nn.relu),\n",
        "                          keras.layers.MaxPooling2D(pool_size=(2,2)),\n",
        "                          keras.layers.Dropout(0.25), # Abandon some of them, to speed up execution and increase reliability\n",
        "                          keras.layers.Flatten(input_shape=(13,2300)),\n",
        "                          keras.layers.Dense(128, activation=tf.nn.relu),\n",
        "                          keras.layers.Dropout(0.5),\n",
        "                          keras.layers.Dense(num_classes, activation='softmax')\n",
        "])\n",
        "\n",
        "model.compile(optimizer='adam',\n",
        "              loss=tf.keras.losses.SparseCategoricalCrossentropy(from_logits=True),\n",
        "              metrics=['accuracy'])"
      ],
      "execution_count": 71,
      "outputs": []
    },
    {
      "cell_type": "code",
      "metadata": {
        "id": "cZfDEe3gaGJQ"
      },
      "source": [
        "# save the best model as digits_model.h5\n",
        "filepath = '/model/best_model.h5'\n",
        "model_checkpoint = keras.callbacks.ModelCheckpoint(filepath=filepath, save_best_only=True)"
      ],
      "execution_count": 72,
      "outputs": []
    },
    {
      "cell_type": "code",
      "metadata": {
        "id": "uZCpqSXA9P--"
      },
      "source": [
        "# define a callback to monitor val_loss\n",
        "monitor_earlystop = keras.callbacks.EarlyStopping(monitor='val_loss', patience=5)"
      ],
      "execution_count": 73,
      "outputs": []
    },
    {
      "cell_type": "code",
      "metadata": {
        "colab": {
          "base_uri": "https://localhost:8080/"
        },
        "id": "R-kQbimyBX-m",
        "outputId": "850348f4-f889-478b-86e1-85c895b40c9a"
      },
      "source": [
        "history = model.fit(train_X['X'], train_y['y'],\n",
        "                    validation_data=(test_X['X'], test_y['y']),\n",
        "                    epochs=epochs, batch_size=batch_size,\n",
        "                    callbacks=[model_checkpoint, monitor_earlystop])"
      ],
      "execution_count": 74,
      "outputs": [
        {
          "output_type": "stream",
          "text": [
            "Epoch 1/100\n"
          ],
          "name": "stdout"
        },
        {
          "output_type": "stream",
          "text": [
            "/usr/local/lib/python3.7/dist-packages/tensorflow/python/keras/backend.py:4930: UserWarning: \"`sparse_categorical_crossentropy` received `from_logits=True`, but the `output` argument was produced by a sigmoid or softmax activation and thus does not represent logits. Was this intended?\"\n",
            "  '\"`sparse_categorical_crossentropy` received `from_logits=True`, but '\n"
          ],
          "name": "stderr"
        },
        {
          "output_type": "stream",
          "text": [
            "6/6 [==============================] - 2s 231ms/step - loss: 2.1198 - accuracy: 0.1682 - val_loss: 1.7596 - val_accuracy: 0.3268\n",
            "Epoch 2/100\n",
            "6/6 [==============================] - 1s 208ms/step - loss: 1.8243 - accuracy: 0.2593 - val_loss: 1.6551 - val_accuracy: 0.3072\n",
            "Epoch 3/100\n",
            "6/6 [==============================] - 1s 207ms/step - loss: 1.7302 - accuracy: 0.3148 - val_loss: 1.6446 - val_accuracy: 0.3922\n",
            "Epoch 4/100\n",
            "6/6 [==============================] - 1s 206ms/step - loss: 1.6486 - accuracy: 0.3457 - val_loss: 1.4704 - val_accuracy: 0.3595\n",
            "Epoch 5/100\n",
            "6/6 [==============================] - 1s 208ms/step - loss: 1.5322 - accuracy: 0.3719 - val_loss: 1.4503 - val_accuracy: 0.3464\n",
            "Epoch 6/100\n",
            "6/6 [==============================] - 1s 206ms/step - loss: 1.4930 - accuracy: 0.3796 - val_loss: 1.4575 - val_accuracy: 0.4118\n",
            "Epoch 7/100\n",
            "6/6 [==============================] - 1s 207ms/step - loss: 1.3835 - accuracy: 0.4537 - val_loss: 1.4093 - val_accuracy: 0.4052\n",
            "Epoch 8/100\n",
            "6/6 [==============================] - 1s 207ms/step - loss: 1.2989 - accuracy: 0.4506 - val_loss: 1.4018 - val_accuracy: 0.3922\n",
            "Epoch 9/100\n",
            "6/6 [==============================] - 1s 204ms/step - loss: 1.2922 - accuracy: 0.4907 - val_loss: 1.3236 - val_accuracy: 0.4444\n",
            "Epoch 10/100\n",
            "6/6 [==============================] - 1s 203ms/step - loss: 1.3266 - accuracy: 0.4583 - val_loss: 1.4307 - val_accuracy: 0.4118\n",
            "Epoch 11/100\n",
            "6/6 [==============================] - 1s 203ms/step - loss: 1.3317 - accuracy: 0.4799 - val_loss: 1.3154 - val_accuracy: 0.4837\n",
            "Epoch 12/100\n",
            "6/6 [==============================] - 1s 205ms/step - loss: 1.2416 - accuracy: 0.4954 - val_loss: 1.2279 - val_accuracy: 0.5882\n",
            "Epoch 13/100\n",
            "6/6 [==============================] - 1s 222ms/step - loss: 1.1376 - accuracy: 0.5586 - val_loss: 1.2016 - val_accuracy: 0.5229\n",
            "Epoch 14/100\n",
            "6/6 [==============================] - 1s 216ms/step - loss: 1.0662 - accuracy: 0.5787 - val_loss: 1.0557 - val_accuracy: 0.6144\n",
            "Epoch 15/100\n",
            "6/6 [==============================] - 1s 208ms/step - loss: 0.9791 - accuracy: 0.5972 - val_loss: 0.9311 - val_accuracy: 0.6732\n",
            "Epoch 16/100\n",
            "6/6 [==============================] - 1s 207ms/step - loss: 0.8067 - accuracy: 0.6821 - val_loss: 0.8139 - val_accuracy: 0.7255\n",
            "Epoch 17/100\n",
            "6/6 [==============================] - 1s 208ms/step - loss: 0.7429 - accuracy: 0.7346 - val_loss: 0.7418 - val_accuracy: 0.7320\n",
            "Epoch 18/100\n",
            "6/6 [==============================] - 1s 204ms/step - loss: 0.6963 - accuracy: 0.7469 - val_loss: 0.6431 - val_accuracy: 0.7843\n",
            "Epoch 19/100\n",
            "6/6 [==============================] - 1s 208ms/step - loss: 0.5646 - accuracy: 0.8025 - val_loss: 0.5297 - val_accuracy: 0.8301\n",
            "Epoch 20/100\n",
            "6/6 [==============================] - 1s 205ms/step - loss: 0.4602 - accuracy: 0.8441 - val_loss: 0.4793 - val_accuracy: 0.8431\n",
            "Epoch 21/100\n",
            "6/6 [==============================] - 1s 205ms/step - loss: 0.4217 - accuracy: 0.8642 - val_loss: 0.4193 - val_accuracy: 0.8627\n",
            "Epoch 22/100\n",
            "6/6 [==============================] - 1s 207ms/step - loss: 0.3319 - accuracy: 0.9059 - val_loss: 0.4023 - val_accuracy: 0.8627\n",
            "Epoch 23/100\n",
            "6/6 [==============================] - 1s 205ms/step - loss: 0.3647 - accuracy: 0.8843 - val_loss: 0.3509 - val_accuracy: 0.8954\n",
            "Epoch 24/100\n",
            "6/6 [==============================] - 1s 206ms/step - loss: 0.2927 - accuracy: 0.9090 - val_loss: 0.2720 - val_accuracy: 0.9216\n",
            "Epoch 25/100\n",
            "6/6 [==============================] - 1s 205ms/step - loss: 0.2509 - accuracy: 0.9259 - val_loss: 0.2523 - val_accuracy: 0.9216\n",
            "Epoch 26/100\n",
            "6/6 [==============================] - 1s 206ms/step - loss: 0.2333 - accuracy: 0.9198 - val_loss: 0.2272 - val_accuracy: 0.9216\n",
            "Epoch 27/100\n",
            "6/6 [==============================] - 1s 206ms/step - loss: 0.1761 - accuracy: 0.9506 - val_loss: 0.2168 - val_accuracy: 0.9216\n",
            "Epoch 28/100\n",
            "6/6 [==============================] - 1s 211ms/step - loss: 0.1716 - accuracy: 0.9506 - val_loss: 0.1717 - val_accuracy: 0.9346\n",
            "Epoch 29/100\n",
            "6/6 [==============================] - 1s 207ms/step - loss: 0.1495 - accuracy: 0.9599 - val_loss: 0.1511 - val_accuracy: 0.9412\n",
            "Epoch 30/100\n",
            "6/6 [==============================] - 1s 205ms/step - loss: 0.0961 - accuracy: 0.9830 - val_loss: 0.1540 - val_accuracy: 0.9608\n",
            "Epoch 31/100\n",
            "6/6 [==============================] - 1s 210ms/step - loss: 0.1105 - accuracy: 0.9707 - val_loss: 0.1430 - val_accuracy: 0.9608\n",
            "Epoch 32/100\n",
            "6/6 [==============================] - 1s 210ms/step - loss: 0.0866 - accuracy: 0.9769 - val_loss: 0.1595 - val_accuracy: 0.9542\n",
            "Epoch 33/100\n",
            "6/6 [==============================] - 1s 219ms/step - loss: 0.0735 - accuracy: 0.9784 - val_loss: 0.1550 - val_accuracy: 0.9542\n",
            "Epoch 34/100\n",
            "6/6 [==============================] - 1s 207ms/step - loss: 0.0672 - accuracy: 0.9815 - val_loss: 0.1458 - val_accuracy: 0.9608\n",
            "Epoch 35/100\n",
            "6/6 [==============================] - 1s 208ms/step - loss: 0.1080 - accuracy: 0.9676 - val_loss: 0.1396 - val_accuracy: 0.9608\n",
            "Epoch 36/100\n",
            "6/6 [==============================] - 1s 209ms/step - loss: 0.1232 - accuracy: 0.9568 - val_loss: 0.0953 - val_accuracy: 0.9673\n",
            "Epoch 37/100\n",
            "6/6 [==============================] - 1s 206ms/step - loss: 0.0961 - accuracy: 0.9722 - val_loss: 0.1353 - val_accuracy: 0.9542\n",
            "Epoch 38/100\n",
            "6/6 [==============================] - 1s 206ms/step - loss: 0.0684 - accuracy: 0.9784 - val_loss: 0.1219 - val_accuracy: 0.9673\n",
            "Epoch 39/100\n",
            "6/6 [==============================] - 1s 205ms/step - loss: 0.1223 - accuracy: 0.9630 - val_loss: 0.1634 - val_accuracy: 0.9542\n",
            "Epoch 40/100\n",
            "6/6 [==============================] - 1s 208ms/step - loss: 0.1008 - accuracy: 0.9753 - val_loss: 0.1296 - val_accuracy: 0.9608\n",
            "Epoch 41/100\n",
            "6/6 [==============================] - 1s 208ms/step - loss: 0.0716 - accuracy: 0.9846 - val_loss: 0.1354 - val_accuracy: 0.9608\n"
          ],
          "name": "stdout"
        }
      ]
    },
    {
      "cell_type": "code",
      "metadata": {
        "id": "DA7THNYX2QX1",
        "colab": {
          "base_uri": "https://localhost:8080/",
          "height": 34
        },
        "outputId": "eccbdb20-238f-4d36-86fb-493dd9032a7c"
      },
      "source": [
        "# download the best model\n",
        "from google.colab import files\n",
        "files.download(filepath)"
      ],
      "execution_count": 75,
      "outputs": [
        {
          "output_type": "display_data",
          "data": {
            "application/javascript": [
              "\n",
              "    async function download(id, filename, size) {\n",
              "      if (!google.colab.kernel.accessAllowed) {\n",
              "        return;\n",
              "      }\n",
              "      const div = document.createElement('div');\n",
              "      const label = document.createElement('label');\n",
              "      label.textContent = `Downloading \"${filename}\": `;\n",
              "      div.appendChild(label);\n",
              "      const progress = document.createElement('progress');\n",
              "      progress.max = size;\n",
              "      div.appendChild(progress);\n",
              "      document.body.appendChild(div);\n",
              "\n",
              "      const buffers = [];\n",
              "      let downloaded = 0;\n",
              "\n",
              "      const channel = await google.colab.kernel.comms.open(id);\n",
              "      // Send a message to notify the kernel that we're ready.\n",
              "      channel.send({})\n",
              "\n",
              "      for await (const message of channel.messages) {\n",
              "        // Send a message to notify the kernel that we're ready.\n",
              "        channel.send({})\n",
              "        if (message.buffers) {\n",
              "          for (const buffer of message.buffers) {\n",
              "            buffers.push(buffer);\n",
              "            downloaded += buffer.byteLength;\n",
              "            progress.value = downloaded;\n",
              "          }\n",
              "        }\n",
              "      }\n",
              "      const blob = new Blob(buffers, {type: 'application/binary'});\n",
              "      const a = document.createElement('a');\n",
              "      a.href = window.URL.createObjectURL(blob);\n",
              "      a.download = filename;\n",
              "      div.appendChild(a);\n",
              "      a.click();\n",
              "      div.remove();\n",
              "    }\n",
              "  "
            ],
            "text/plain": [
              "<IPython.core.display.Javascript object>"
            ]
          },
          "metadata": {
            "tags": []
          }
        },
        {
          "output_type": "display_data",
          "data": {
            "application/javascript": [
              "download(\"download_186a8014-41ce-4ea8-9aa7-3392871cea80\", \"best_model.h5\", 169649784)"
            ],
            "text/plain": [
              "<IPython.core.display.Javascript object>"
            ]
          },
          "metadata": {
            "tags": []
          }
        }
      ]
    },
    {
      "cell_type": "code",
      "metadata": {
        "id": "4VT5MWhAcGQi"
      },
      "source": [
        "# save model\n",
        "best_model = 'best_model.h5'\n",
        "model.save(best_model)"
      ],
      "execution_count": 76,
      "outputs": []
    },
    {
      "cell_type": "code",
      "metadata": {
        "colab": {
          "base_uri": "https://localhost:8080/"
        },
        "id": "58sErI1-cQqP",
        "outputId": "ec837247-334d-45b0-aa46-e01119fd3442"
      },
      "source": [
        "model.summary()"
      ],
      "execution_count": 77,
      "outputs": [
        {
          "output_type": "stream",
          "text": [
            "Model: \"sequential_1\"\n",
            "_________________________________________________________________\n",
            "Layer (type)                 Output Shape              Param #   \n",
            "=================================================================\n",
            "flatten_2 (Flatten)          (None, 29900)             0         \n",
            "_________________________________________________________________\n",
            "reshape_1 (Reshape)          (None, 13, 2300, 1)       0         \n",
            "_________________________________________________________________\n",
            "conv2d_3 (Conv2D)            (None, 11, 2298, 32)      320       \n",
            "_________________________________________________________________\n",
            "conv2d_4 (Conv2D)            (None, 9, 2296, 64)       18496     \n",
            "_________________________________________________________________\n",
            "conv2d_5 (Conv2D)            (None, 7, 2294, 32)       18464     \n",
            "_________________________________________________________________\n",
            "max_pooling2d_1 (MaxPooling2 (None, 3, 1147, 32)       0         \n",
            "_________________________________________________________________\n",
            "dropout_2 (Dropout)          (None, 3, 1147, 32)       0         \n",
            "_________________________________________________________________\n",
            "flatten_3 (Flatten)          (None, 110112)            0         \n",
            "_________________________________________________________________\n",
            "dense_2 (Dense)              (None, 128)               14094464  \n",
            "_________________________________________________________________\n",
            "dropout_3 (Dropout)          (None, 128)               0         \n",
            "_________________________________________________________________\n",
            "dense_3 (Dense)              (None, 9)                 1161      \n",
            "=================================================================\n",
            "Total params: 14,132,905\n",
            "Trainable params: 14,132,905\n",
            "Non-trainable params: 0\n",
            "_________________________________________________________________\n"
          ],
          "name": "stdout"
        }
      ]
    },
    {
      "cell_type": "code",
      "metadata": {
        "colab": {
          "base_uri": "https://localhost:8080/"
        },
        "id": "yFq5Bkrl22Gn",
        "outputId": "c6bf2920-aad8-4ae0-bc40-5356bb36aa8d"
      },
      "source": [
        "# evaluate the model using test dataset\n",
        "test_loss, test_acc = model.evaluate(test_X['X'], test_y['y'])\n",
        "print(\"Test Accuracy: \", test_acc)"
      ],
      "execution_count": 78,
      "outputs": [
        {
          "output_type": "stream",
          "text": [
            "5/5 [==============================] - 0s 29ms/step - loss: 0.1354 - accuracy: 0.9608\n",
            "Test Accuracy:  0.9607843160629272\n"
          ],
          "name": "stdout"
        }
      ]
    },
    {
      "cell_type": "code",
      "metadata": {
        "id": "LnZ4_YjzcjZC"
      },
      "source": [
        "# # load model\n",
        "# load_model = keras.models.load_model(best_model)\n",
        "# load_model.summary()\n",
        "# # evaluate the load model using test dataset\n",
        "# test_loss, test_acc = model.evaluate(test_X['X'], test_y['y'])\n",
        "# print(\"Load Test Accuracy: \", test_acc)"
      ],
      "execution_count": 56,
      "outputs": []
    },
    {
      "cell_type": "code",
      "metadata": {
        "colab": {
          "base_uri": "https://localhost:8080/",
          "height": 541
        },
        "id": "0br5hnvl7FqP",
        "outputId": "77e0049b-787f-4eb3-b49e-f2b777cedb0a"
      },
      "source": [
        "# evaluate the model using test dataset - show performance\n",
        "fig, loss_ax = plt.subplots()\n",
        "fig, acc_ax = plt.subplots()\n",
        "\n",
        "loss_ax.plot(history.history['loss'], 'ro', label=\"train_loss\")\n",
        "loss_ax.plot(history.history['val_loss'], 'r:', label=\"validation_loss\")\n",
        "loss_ax.set_xlabel('epoch')\n",
        "loss_ax.set_ylabel('loss')\n",
        "loss_ax.legend(loc='upper left')\n",
        "\n",
        "acc_ax.plot(history.history['accuracy'], 'bo', label=\"train_accuracy\")\n",
        "acc_ax.plot(history.history['val_accuracy'], 'b:', label=\"validation_accuracy\")\n",
        "acc_ax.set_xlabel('epoch')\n",
        "acc_ax.set_ylabel('accuracy')\n",
        "acc_ax.legend(loc='upper left')\n",
        "\n",
        "plt.show()"
      ],
      "execution_count": 79,
      "outputs": [
        {
          "output_type": "display_data",
          "data": {
            "image/png": "[encoded data removed]",
            "text/plain": [
              "<Figure size 432x288 with 1 Axes>"
            ]
          },
          "metadata": {
            "tags": [],
            "needs_background": "light"
          }
        },
        {
          "output_type": "display_data",
          "data": {
            "image/png": "[encoded data removed]",
            "text/plain": [
              "<Figure size 432x288 with 1 Axes>"
            ]
          },
          "metadata": {
            "tags": [],
            "needs_background": "light"
          }
        }
      ]
    }
  ]
}